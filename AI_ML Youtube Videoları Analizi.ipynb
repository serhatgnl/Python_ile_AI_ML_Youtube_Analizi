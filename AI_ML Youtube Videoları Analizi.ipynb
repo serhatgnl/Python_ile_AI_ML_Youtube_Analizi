{
 "cells": [
  {
   "cell_type": "markdown",
   "id": "fef5f85a-8120-4da9-a163-a84f3925f780",
   "metadata": {},
   "source": [
    "# Yapay Zeka/Makine Öğrenimi Youtube Videoları Analizi"
   ]
  },
  {
   "cell_type": "markdown",
   "id": "05ccadaf-a72a-4200-b08f-ef447e7013ba",
   "metadata": {},
   "source": [
    "Bu analiz YouTube'daki eğitici yapay zeka ve makine öğrenimi videolarını belgeleyen ve 6000'den fazla videodan oluşan bir koleksiyon verisinin incelenmesini içerir."
   ]
  },
  {
   "cell_type": "markdown",
   "id": "d1f7b459-94b0-4bec-8b8e-bba595f25d1b",
   "metadata": {},
   "source": [
    "Bu veri seti *kaggle.com* web adresinden CSV dosya formatında temin edilmiştir."
   ]
  },
  {
   "cell_type": "markdown",
   "id": "0949f061-3a94-4512-9c83-c382ddd02d40",
   "metadata": {},
   "source": [
    "## Veri Setini Hazırlamak"
   ]
  },
  {
   "cell_type": "markdown",
   "id": "09945189-5bf6-4c78-8782-3709ad9ecd50",
   "metadata": {},
   "source": [
    "- Pandas kütüphanesini kullanarak dosyayı yüklemek\n",
    "- Sütun bilgisine ve ait olduğu veri setine genel bir bakış"
   ]
  },
  {
   "cell_type": "code",
   "execution_count": 1,
   "id": "fffce55b-77be-4215-9c20-e39aafcacc82",
   "metadata": {},
   "outputs": [],
   "source": [
    "dosya_ismi = 'AI_ML_YT_Videos.csv'    "
   ]
  },
  {
   "cell_type": "code",
   "execution_count": 2,
   "id": "40c35388-71fc-4b7d-8bfb-5e8f6fa865da",
   "metadata": {},
   "outputs": [],
   "source": [
    "f = open(dosya_ismi, 'r')"
   ]
  },
  {
   "cell_type": "code",
   "execution_count": 3,
   "id": "c55898d3-cb31-4856-95f9-3c094e236026",
   "metadata": {},
   "outputs": [
    {
     "data": {
      "text/plain": [
       "[',Channel,Title,PublishedDate,Views,Likes,Comments\\n',\n",
       " '0,Jeff Heaton,LSTM-Based Time Series with PyTorch (10.2),2023-10-27,764,45,1\\n',\n",
       " '1,Jeff Heaton,\"Time Series Data Encoding for Deep Learning, PyTorch (10.1)\",2023-10-26,530,31,1\\n',\n",
       " '2,Jeff Heaton,Bayesian Hyperparameter Optimization for PyTorch (8.4),2023-10-25,453,29,1\\n',\n",
       " '3,Jeff Heaton,Creating Certificates to Deploy PyInstaller PyQT MacOS App to the Apple App Store,2023-10-17,439,12,0\\n']"
      ]
     },
     "execution_count": 3,
     "metadata": {},
     "output_type": "execute_result"
    }
   ],
   "source": [
    "f.readlines()[:5]              # Ham verilerin ilk 5 satırını gösterir"
   ]
  },
  {
   "cell_type": "code",
   "execution_count": 4,
   "id": "9664faba-ec11-44f4-b405-f928ea7bfa69",
   "metadata": {},
   "outputs": [],
   "source": [
    "import pandas as pd"
   ]
  },
  {
   "cell_type": "code",
   "execution_count": 5,
   "id": "df4186e9-298a-46ad-888f-035ec5d912d9",
   "metadata": {},
   "outputs": [],
   "source": [
    "df = pd.read_csv('AI_ML_YT_Videos.csv', index_col=0)"
   ]
  },
  {
   "cell_type": "code",
   "execution_count": 6,
   "id": "e2ba569e-2e09-4c3c-991e-3387cc9cb5e6",
   "metadata": {},
   "outputs": [
    {
     "data": {
      "text/html": [
       "<div>\n",
       "<style scoped>\n",
       "    .dataframe tbody tr th:only-of-type {\n",
       "        vertical-align: middle;\n",
       "    }\n",
       "\n",
       "    .dataframe tbody tr th {\n",
       "        vertical-align: top;\n",
       "    }\n",
       "\n",
       "    .dataframe thead th {\n",
       "        text-align: right;\n",
       "    }\n",
       "</style>\n",
       "<table border=\"1\" class=\"dataframe\">\n",
       "  <thead>\n",
       "    <tr style=\"text-align: right;\">\n",
       "      <th></th>\n",
       "      <th>Channel</th>\n",
       "      <th>Title</th>\n",
       "      <th>PublishedDate</th>\n",
       "      <th>Views</th>\n",
       "      <th>Likes</th>\n",
       "      <th>Comments</th>\n",
       "    </tr>\n",
       "  </thead>\n",
       "  <tbody>\n",
       "    <tr>\n",
       "      <th>0</th>\n",
       "      <td>Jeff Heaton</td>\n",
       "      <td>LSTM-Based Time Series with PyTorch (10.2)</td>\n",
       "      <td>2023-10-27</td>\n",
       "      <td>764</td>\n",
       "      <td>45</td>\n",
       "      <td>1</td>\n",
       "    </tr>\n",
       "    <tr>\n",
       "      <th>1</th>\n",
       "      <td>Jeff Heaton</td>\n",
       "      <td>Time Series Data Encoding for Deep Learning, P...</td>\n",
       "      <td>2023-10-26</td>\n",
       "      <td>530</td>\n",
       "      <td>31</td>\n",
       "      <td>1</td>\n",
       "    </tr>\n",
       "    <tr>\n",
       "      <th>2</th>\n",
       "      <td>Jeff Heaton</td>\n",
       "      <td>Bayesian Hyperparameter Optimization for PyTor...</td>\n",
       "      <td>2023-10-25</td>\n",
       "      <td>453</td>\n",
       "      <td>29</td>\n",
       "      <td>1</td>\n",
       "    </tr>\n",
       "    <tr>\n",
       "      <th>3</th>\n",
       "      <td>Jeff Heaton</td>\n",
       "      <td>Creating Certificates to Deploy PyInstaller Py...</td>\n",
       "      <td>2023-10-17</td>\n",
       "      <td>439</td>\n",
       "      <td>12</td>\n",
       "      <td>0</td>\n",
       "    </tr>\n",
       "    <tr>\n",
       "      <th>4</th>\n",
       "      <td>Jeff Heaton</td>\n",
       "      <td>How Should you Architect Your PyTorch Neural N...</td>\n",
       "      <td>2023-10-12</td>\n",
       "      <td>825</td>\n",
       "      <td>39</td>\n",
       "      <td>1</td>\n",
       "    </tr>\n",
       "  </tbody>\n",
       "</table>\n",
       "</div>"
      ],
      "text/plain": [
       "       Channel                                              Title  \\\n",
       "0  Jeff Heaton         LSTM-Based Time Series with PyTorch (10.2)   \n",
       "1  Jeff Heaton  Time Series Data Encoding for Deep Learning, P...   \n",
       "2  Jeff Heaton  Bayesian Hyperparameter Optimization for PyTor...   \n",
       "3  Jeff Heaton  Creating Certificates to Deploy PyInstaller Py...   \n",
       "4  Jeff Heaton  How Should you Architect Your PyTorch Neural N...   \n",
       "\n",
       "  PublishedDate  Views  Likes  Comments  \n",
       "0    2023-10-27    764     45         1  \n",
       "1    2023-10-26    530     31         1  \n",
       "2    2023-10-25    453     29         1  \n",
       "3    2023-10-17    439     12         0  \n",
       "4    2023-10-12    825     39         1  "
      ]
     },
     "execution_count": 6,
     "metadata": {},
     "output_type": "execute_result"
    }
   ],
   "source": [
    "df.head()  # ilk 5 satırın gösterilmesi"
   ]
  },
  {
   "cell_type": "code",
   "execution_count": 7,
   "id": "14a9a76c-facf-4ce0-93bb-7fb6714d9000",
   "metadata": {},
   "outputs": [],
   "source": [
    "df['PublishedDate'] = pd.to_datetime(df['PublishedDate'])   # Tarih-saat formatına çevirme"
   ]
  },
  {
   "cell_type": "code",
   "execution_count": 8,
   "id": "587d59d8-a52e-4e0e-b845-6a2b14a26be3",
   "metadata": {},
   "outputs": [
    {
     "data": {
      "text/plain": [
       "Channel                  object\n",
       "Title                    object\n",
       "PublishedDate    datetime64[ns]\n",
       "Views                     int64\n",
       "Likes                     int64\n",
       "Comments                  int64\n",
       "dtype: object"
      ]
     },
     "execution_count": 8,
     "metadata": {},
     "output_type": "execute_result"
    }
   ],
   "source": [
    "df.dtypes"
   ]
  },
  {
   "cell_type": "markdown",
   "id": "1f9bff6c-d7b0-40e6-ab57-296fba7ecc12",
   "metadata": {},
   "source": [
    "Veri seti hakkında genel bilgi elde etmeye çalışırsak;"
   ]
  },
  {
   "cell_type": "code",
   "execution_count": 9,
   "id": "7b3a0246-b874-41c2-a42f-2e1049b1c071",
   "metadata": {},
   "outputs": [
    {
     "name": "stdout",
     "output_type": "stream",
     "text": [
      "<class 'pandas.core.frame.DataFrame'>\n",
      "Index: 6151 entries, 0 to 6150\n",
      "Data columns (total 6 columns):\n",
      " #   Column         Non-Null Count  Dtype         \n",
      "---  ------         --------------  -----         \n",
      " 0   Channel        6151 non-null   object        \n",
      " 1   Title          6151 non-null   object        \n",
      " 2   PublishedDate  6151 non-null   datetime64[ns]\n",
      " 3   Views          6151 non-null   int64         \n",
      " 4   Likes          6151 non-null   int64         \n",
      " 5   Comments       6151 non-null   int64         \n",
      "dtypes: datetime64[ns](1), int64(3), object(2)\n",
      "memory usage: 336.4+ KB\n"
     ]
    }
   ],
   "source": [
    "df.info()"
   ]
  },
  {
   "cell_type": "code",
   "execution_count": 10,
   "id": "303bf929-ac04-42bf-9a4f-8e4a7749b896",
   "metadata": {},
   "outputs": [
    {
     "data": {
      "text/html": [
       "<div>\n",
       "<style scoped>\n",
       "    .dataframe tbody tr th:only-of-type {\n",
       "        vertical-align: middle;\n",
       "    }\n",
       "\n",
       "    .dataframe tbody tr th {\n",
       "        vertical-align: top;\n",
       "    }\n",
       "\n",
       "    .dataframe thead th {\n",
       "        text-align: right;\n",
       "    }\n",
       "</style>\n",
       "<table border=\"1\" class=\"dataframe\">\n",
       "  <thead>\n",
       "    <tr style=\"text-align: right;\">\n",
       "      <th></th>\n",
       "      <th>PublishedDate</th>\n",
       "      <th>Views</th>\n",
       "      <th>Likes</th>\n",
       "      <th>Comments</th>\n",
       "    </tr>\n",
       "  </thead>\n",
       "  <tbody>\n",
       "    <tr>\n",
       "      <th>count</th>\n",
       "      <td>6151</td>\n",
       "      <td>6.151000e+03</td>\n",
       "      <td>6151.000000</td>\n",
       "      <td>6151.000000</td>\n",
       "    </tr>\n",
       "    <tr>\n",
       "      <th>mean</th>\n",
       "      <td>2019-02-18 20:37:43.827019776</td>\n",
       "      <td>5.220895e+04</td>\n",
       "      <td>935.637132</td>\n",
       "      <td>72.171029</td>\n",
       "    </tr>\n",
       "    <tr>\n",
       "      <th>min</th>\n",
       "      <td>2006-10-25 00:00:00</td>\n",
       "      <td>0.000000e+00</td>\n",
       "      <td>0.000000</td>\n",
       "      <td>0.000000</td>\n",
       "    </tr>\n",
       "    <tr>\n",
       "      <th>25%</th>\n",
       "      <td>2017-07-07 00:00:00</td>\n",
       "      <td>5.017500e+03</td>\n",
       "      <td>83.000000</td>\n",
       "      <td>7.000000</td>\n",
       "    </tr>\n",
       "    <tr>\n",
       "      <th>50%</th>\n",
       "      <td>2019-09-08 00:00:00</td>\n",
       "      <td>1.660600e+04</td>\n",
       "      <td>313.000000</td>\n",
       "      <td>27.000000</td>\n",
       "    </tr>\n",
       "    <tr>\n",
       "      <th>75%</th>\n",
       "      <td>2021-05-27 00:00:00</td>\n",
       "      <td>5.211650e+04</td>\n",
       "      <td>926.000000</td>\n",
       "      <td>80.000000</td>\n",
       "    </tr>\n",
       "    <tr>\n",
       "      <th>max</th>\n",
       "      <td>2023-10-27 00:00:00</td>\n",
       "      <td>2.689040e+06</td>\n",
       "      <td>64750.000000</td>\n",
       "      <td>3478.000000</td>\n",
       "    </tr>\n",
       "    <tr>\n",
       "      <th>std</th>\n",
       "      <td>NaN</td>\n",
       "      <td>1.180318e+05</td>\n",
       "      <td>2243.596155</td>\n",
       "      <td>144.250349</td>\n",
       "    </tr>\n",
       "  </tbody>\n",
       "</table>\n",
       "</div>"
      ],
      "text/plain": [
       "                       PublishedDate         Views         Likes     Comments\n",
       "count                           6151  6.151000e+03   6151.000000  6151.000000\n",
       "mean   2019-02-18 20:37:43.827019776  5.220895e+04    935.637132    72.171029\n",
       "min              2006-10-25 00:00:00  0.000000e+00      0.000000     0.000000\n",
       "25%              2017-07-07 00:00:00  5.017500e+03     83.000000     7.000000\n",
       "50%              2019-09-08 00:00:00  1.660600e+04    313.000000    27.000000\n",
       "75%              2021-05-27 00:00:00  5.211650e+04    926.000000    80.000000\n",
       "max              2023-10-27 00:00:00  2.689040e+06  64750.000000  3478.000000\n",
       "std                              NaN  1.180318e+05   2243.596155   144.250349"
      ]
     },
     "execution_count": 10,
     "metadata": {},
     "output_type": "execute_result"
    }
   ],
   "source": [
    "df.describe()      # Veri setindeki her sütuna dair bazi istatistiklerin alınması"
   ]
  },
  {
   "cell_type": "markdown",
   "id": "5c2decae-10a2-4b79-bcd4-932dd82af705",
   "metadata": {},
   "source": [
    "Veri setinin eksik bir değere sahip olup olmadığını kontrol etme:"
   ]
  },
  {
   "cell_type": "code",
   "execution_count": 11,
   "id": "ec700902-e5cf-401a-8f6e-35d3565f1ae5",
   "metadata": {},
   "outputs": [
    {
     "data": {
      "text/plain": [
       "Channel          0\n",
       "Title            0\n",
       "PublishedDate    0\n",
       "Views            0\n",
       "Likes            0\n",
       "Comments         0\n",
       "dtype: int64"
      ]
     },
     "execution_count": 11,
     "metadata": {},
     "output_type": "execute_result"
    }
   ],
   "source": [
    "df.isna().sum()           # Eksik bir değere sahip değiliz"
   ]
  },
  {
   "cell_type": "markdown",
   "id": "81c298aa-a5ae-4791-a721-360d58a754ac",
   "metadata": {},
   "source": [
    "### izleyenlerin ilgisini en çok çeken videoların analizinin yapılması:"
   ]
  },
  {
   "cell_type": "markdown",
   "id": "9a6e183a-f972-40f4-8be8-da870122ffb5",
   "metadata": {},
   "source": [
    "Artan oranda sıralanmış bir şekilde en çok yorum alan son 5 video:"
   ]
  },
  {
   "cell_type": "code",
   "execution_count": 12,
   "id": "71f86cc1-6a64-4cda-80d8-9fa8d5ade11e",
   "metadata": {},
   "outputs": [
    {
     "data": {
      "text/html": [
       "<div>\n",
       "<style scoped>\n",
       "    .dataframe tbody tr th:only-of-type {\n",
       "        vertical-align: middle;\n",
       "    }\n",
       "\n",
       "    .dataframe tbody tr th {\n",
       "        vertical-align: top;\n",
       "    }\n",
       "\n",
       "    .dataframe thead th {\n",
       "        text-align: right;\n",
       "    }\n",
       "</style>\n",
       "<table border=\"1\" class=\"dataframe\">\n",
       "  <thead>\n",
       "    <tr style=\"text-align: right;\">\n",
       "      <th></th>\n",
       "      <th>Channel</th>\n",
       "      <th>Title</th>\n",
       "      <th>PublishedDate</th>\n",
       "      <th>Views</th>\n",
       "      <th>Likes</th>\n",
       "      <th>Comments</th>\n",
       "    </tr>\n",
       "  </thead>\n",
       "  <tbody>\n",
       "    <tr>\n",
       "      <th>5898</th>\n",
       "      <td>Krish Naik</td>\n",
       "      <td>AI VS ML VS DL VS Data Science</td>\n",
       "      <td>2019-11-26</td>\n",
       "      <td>2689040</td>\n",
       "      <td>64750</td>\n",
       "      <td>1697</td>\n",
       "    </tr>\n",
       "    <tr>\n",
       "      <th>2034</th>\n",
       "      <td>Nicholas Renotte</td>\n",
       "      <td>Real Time Face Mask Detection with Tensorflow ...</td>\n",
       "      <td>2020-11-01</td>\n",
       "      <td>230058</td>\n",
       "      <td>4275</td>\n",
       "      <td>1808</td>\n",
       "    </tr>\n",
       "    <tr>\n",
       "      <th>1410</th>\n",
       "      <td>Siraj Raval</td>\n",
       "      <td>My Apology</td>\n",
       "      <td>2019-12-23</td>\n",
       "      <td>264825</td>\n",
       "      <td>6804</td>\n",
       "      <td>2031</td>\n",
       "    </tr>\n",
       "    <tr>\n",
       "      <th>2033</th>\n",
       "      <td>Nicholas Renotte</td>\n",
       "      <td>Real Time Sign Language Detection with Tensorf...</td>\n",
       "      <td>2020-11-05</td>\n",
       "      <td>487193</td>\n",
       "      <td>9607</td>\n",
       "      <td>2603</td>\n",
       "    </tr>\n",
       "    <tr>\n",
       "      <th>1996</th>\n",
       "      <td>Nicholas Renotte</td>\n",
       "      <td>Tensorflow Object Detection in 5 Hours with Py...</td>\n",
       "      <td>2021-04-09</td>\n",
       "      <td>1204202</td>\n",
       "      <td>30536</td>\n",
       "      <td>3478</td>\n",
       "    </tr>\n",
       "  </tbody>\n",
       "</table>\n",
       "</div>"
      ],
      "text/plain": [
       "               Channel                                              Title  \\\n",
       "5898        Krish Naik                     AI VS ML VS DL VS Data Science   \n",
       "2034  Nicholas Renotte  Real Time Face Mask Detection with Tensorflow ...   \n",
       "1410       Siraj Raval                                         My Apology   \n",
       "2033  Nicholas Renotte  Real Time Sign Language Detection with Tensorf...   \n",
       "1996  Nicholas Renotte  Tensorflow Object Detection in 5 Hours with Py...   \n",
       "\n",
       "     PublishedDate    Views  Likes  Comments  \n",
       "5898    2019-11-26  2689040  64750      1697  \n",
       "2034    2020-11-01   230058   4275      1808  \n",
       "1410    2019-12-23   264825   6804      2031  \n",
       "2033    2020-11-05   487193   9607      2603  \n",
       "1996    2021-04-09  1204202  30536      3478  "
      ]
     },
     "execution_count": 12,
     "metadata": {},
     "output_type": "execute_result"
    }
   ],
   "source": [
    "df.sort_values('Comments').tail()      "
   ]
  },
  {
   "cell_type": "markdown",
   "id": "223f41d4-f9f1-4c09-9282-b6f605189758",
   "metadata": {},
   "source": [
    "Nicholas Renotte'nin 3478 adet ile en çok yorumu aldığını görüyoruz. Izlenme ve yorum sayısı bu videounun ilgi çekiçi olduğu hakkında bir fikir veriyor. Peki bir de izlenme başına yorum oranı analizi yaptığımızda ortaya çıkacak sonucu inceleyelim."
   ]
  },
  {
   "cell_type": "code",
   "execution_count": 13,
   "id": "2bf3dc4f-2b12-4f6c-8e14-2a14806ee432",
   "metadata": {},
   "outputs": [],
   "source": [
    "df['Comments/Views'] = df.Comments / df.Views"
   ]
  },
  {
   "cell_type": "markdown",
   "id": "a748394c-e43e-471e-9091-52f310aca751",
   "metadata": {},
   "source": [
    "Varsa geçersiz değerlerin kaldırılarak artan sırada son 5 veriye ait bilgi:"
   ]
  },
  {
   "cell_type": "code",
   "execution_count": 14,
   "id": "4d611357-2e02-4e3d-aad9-babc8f5462a2",
   "metadata": {},
   "outputs": [
    {
     "data": {
      "text/html": [
       "<div>\n",
       "<style scoped>\n",
       "    .dataframe tbody tr th:only-of-type {\n",
       "        vertical-align: middle;\n",
       "    }\n",
       "\n",
       "    .dataframe tbody tr th {\n",
       "        vertical-align: top;\n",
       "    }\n",
       "\n",
       "    .dataframe thead th {\n",
       "        text-align: right;\n",
       "    }\n",
       "</style>\n",
       "<table border=\"1\" class=\"dataframe\">\n",
       "  <thead>\n",
       "    <tr style=\"text-align: right;\">\n",
       "      <th></th>\n",
       "      <th>Channel</th>\n",
       "      <th>Title</th>\n",
       "      <th>PublishedDate</th>\n",
       "      <th>Views</th>\n",
       "      <th>Likes</th>\n",
       "      <th>Comments</th>\n",
       "      <th>Comments/Views</th>\n",
       "    </tr>\n",
       "  </thead>\n",
       "  <tbody>\n",
       "    <tr>\n",
       "      <th>238</th>\n",
       "      <td>Jeff Heaton</td>\n",
       "      <td>GTC GPU Technology Conference Giveaway</td>\n",
       "      <td>2020-09-14</td>\n",
       "      <td>798</td>\n",
       "      <td>49</td>\n",
       "      <td>37</td>\n",
       "      <td>0.046366</td>\n",
       "    </tr>\n",
       "    <tr>\n",
       "      <th>831</th>\n",
       "      <td>Daniel Bourke</td>\n",
       "      <td>My Experience at CodeCamp, Intro to Keras and ...</td>\n",
       "      <td>2018-01-14</td>\n",
       "      <td>733</td>\n",
       "      <td>24</td>\n",
       "      <td>38</td>\n",
       "      <td>0.051842</td>\n",
       "    </tr>\n",
       "    <tr>\n",
       "      <th>806</th>\n",
       "      <td>Daniel Bourke</td>\n",
       "      <td>Facebook F8 Event Highlights, Amazon Sharehold...</td>\n",
       "      <td>2018-05-08</td>\n",
       "      <td>254</td>\n",
       "      <td>15</td>\n",
       "      <td>14</td>\n",
       "      <td>0.055118</td>\n",
       "    </tr>\n",
       "    <tr>\n",
       "      <th>765</th>\n",
       "      <td>Daniel Bourke</td>\n",
       "      <td>2018: Thank you</td>\n",
       "      <td>2018-12-31</td>\n",
       "      <td>674</td>\n",
       "      <td>74</td>\n",
       "      <td>46</td>\n",
       "      <td>0.068249</td>\n",
       "    </tr>\n",
       "    <tr>\n",
       "      <th>363</th>\n",
       "      <td>Jeff Heaton</td>\n",
       "      <td>What do YOU Want Covered in my Deep Learning C...</td>\n",
       "      <td>2019-04-26</td>\n",
       "      <td>388</td>\n",
       "      <td>41</td>\n",
       "      <td>42</td>\n",
       "      <td>0.108247</td>\n",
       "    </tr>\n",
       "  </tbody>\n",
       "</table>\n",
       "</div>"
      ],
      "text/plain": [
       "           Channel                                              Title  \\\n",
       "238    Jeff Heaton             GTC GPU Technology Conference Giveaway   \n",
       "831  Daniel Bourke  My Experience at CodeCamp, Intro to Keras and ...   \n",
       "806  Daniel Bourke  Facebook F8 Event Highlights, Amazon Sharehold...   \n",
       "765  Daniel Bourke                                    2018: Thank you   \n",
       "363    Jeff Heaton  What do YOU Want Covered in my Deep Learning C...   \n",
       "\n",
       "    PublishedDate  Views  Likes  Comments  Comments/Views  \n",
       "238    2020-09-14    798     49        37        0.046366  \n",
       "831    2018-01-14    733     24        38        0.051842  \n",
       "806    2018-05-08    254     15        14        0.055118  \n",
       "765    2018-12-31    674     74        46        0.068249  \n",
       "363    2019-04-26    388     41        42        0.108247  "
      ]
     },
     "execution_count": 14,
     "metadata": {},
     "output_type": "execute_result"
    }
   ],
   "source": [
    "df.sort_values('Comments/Views').dropna().tail()   "
   ]
  },
  {
   "cell_type": "markdown",
   "id": "a0a3918d-8620-4151-a409-968198c6a68c",
   "metadata": {},
   "source": [
    "Jeff Heaton *'What do YOU Want Covered in my Deep Learning C...'* videosu ile izlenme başına en çok yorumu aldığını görüyoruz. \t"
   ]
  },
  {
   "cell_type": "markdown",
   "id": "7199d08f-ec51-4bc5-9136-19470ea7883f",
   "metadata": {},
   "source": [
    "Veya yukarıdaki analizin tersini yaparsak; yani yorum başına izlenme oranı:"
   ]
  },
  {
   "cell_type": "code",
   "execution_count": 15,
   "id": "7d1b7264-7d9a-49df-a59f-0f8842810534",
   "metadata": {},
   "outputs": [],
   "source": [
    "df['Views/Comments'] = df.Views / df.Comments"
   ]
  },
  {
   "cell_type": "code",
   "execution_count": 16,
   "id": "070f4fc1-aa84-43cc-96bb-396cbc825709",
   "metadata": {},
   "outputs": [
    {
     "data": {
      "text/html": [
       "<div>\n",
       "<style scoped>\n",
       "    .dataframe tbody tr th:only-of-type {\n",
       "        vertical-align: middle;\n",
       "    }\n",
       "\n",
       "    .dataframe tbody tr th {\n",
       "        vertical-align: top;\n",
       "    }\n",
       "\n",
       "    .dataframe thead th {\n",
       "        text-align: right;\n",
       "    }\n",
       "</style>\n",
       "<table border=\"1\" class=\"dataframe\">\n",
       "  <thead>\n",
       "    <tr style=\"text-align: right;\">\n",
       "      <th></th>\n",
       "      <th>Channel</th>\n",
       "      <th>Title</th>\n",
       "      <th>PublishedDate</th>\n",
       "      <th>Views</th>\n",
       "      <th>Likes</th>\n",
       "      <th>Comments</th>\n",
       "      <th>Comments/Views</th>\n",
       "      <th>Views/Comments</th>\n",
       "    </tr>\n",
       "  </thead>\n",
       "  <tbody>\n",
       "    <tr>\n",
       "      <th>363</th>\n",
       "      <td>Jeff Heaton</td>\n",
       "      <td>What do YOU Want Covered in my Deep Learning C...</td>\n",
       "      <td>2019-04-26</td>\n",
       "      <td>388</td>\n",
       "      <td>41</td>\n",
       "      <td>42</td>\n",
       "      <td>0.108247</td>\n",
       "      <td>9.238095</td>\n",
       "    </tr>\n",
       "    <tr>\n",
       "      <th>765</th>\n",
       "      <td>Daniel Bourke</td>\n",
       "      <td>2018: Thank you</td>\n",
       "      <td>2018-12-31</td>\n",
       "      <td>674</td>\n",
       "      <td>74</td>\n",
       "      <td>46</td>\n",
       "      <td>0.068249</td>\n",
       "      <td>14.652174</td>\n",
       "    </tr>\n",
       "    <tr>\n",
       "      <th>806</th>\n",
       "      <td>Daniel Bourke</td>\n",
       "      <td>Facebook F8 Event Highlights, Amazon Sharehold...</td>\n",
       "      <td>2018-05-08</td>\n",
       "      <td>254</td>\n",
       "      <td>15</td>\n",
       "      <td>14</td>\n",
       "      <td>0.055118</td>\n",
       "      <td>18.142857</td>\n",
       "    </tr>\n",
       "    <tr>\n",
       "      <th>831</th>\n",
       "      <td>Daniel Bourke</td>\n",
       "      <td>My Experience at CodeCamp, Intro to Keras and ...</td>\n",
       "      <td>2018-01-14</td>\n",
       "      <td>733</td>\n",
       "      <td>24</td>\n",
       "      <td>38</td>\n",
       "      <td>0.051842</td>\n",
       "      <td>19.289474</td>\n",
       "    </tr>\n",
       "    <tr>\n",
       "      <th>238</th>\n",
       "      <td>Jeff Heaton</td>\n",
       "      <td>GTC GPU Technology Conference Giveaway</td>\n",
       "      <td>2020-09-14</td>\n",
       "      <td>798</td>\n",
       "      <td>49</td>\n",
       "      <td>37</td>\n",
       "      <td>0.046366</td>\n",
       "      <td>21.567568</td>\n",
       "    </tr>\n",
       "  </tbody>\n",
       "</table>\n",
       "</div>"
      ],
      "text/plain": [
       "           Channel                                              Title  \\\n",
       "363    Jeff Heaton  What do YOU Want Covered in my Deep Learning C...   \n",
       "765  Daniel Bourke                                    2018: Thank you   \n",
       "806  Daniel Bourke  Facebook F8 Event Highlights, Amazon Sharehold...   \n",
       "831  Daniel Bourke  My Experience at CodeCamp, Intro to Keras and ...   \n",
       "238    Jeff Heaton             GTC GPU Technology Conference Giveaway   \n",
       "\n",
       "    PublishedDate  Views  Likes  Comments  Comments/Views  Views/Comments  \n",
       "363    2019-04-26    388     41        42        0.108247        9.238095  \n",
       "765    2018-12-31    674     74        46        0.068249       14.652174  \n",
       "806    2018-05-08    254     15        14        0.055118       18.142857  \n",
       "831    2018-01-14    733     24        38        0.051842       19.289474  \n",
       "238    2020-09-14    798     49        37        0.046366       21.567568  "
      ]
     },
     "execution_count": 16,
     "metadata": {},
     "output_type": "execute_result"
    }
   ],
   "source": [
    "df.sort_values('Views/Comments').dropna().head()   # bu defa ilk 5 sırayı alarak en düşük orana bakmak istiyoruz."
   ]
  },
  {
   "cell_type": "markdown",
   "id": "32deb2b3-ad59-401f-afd4-cce5f49aeab2",
   "metadata": {},
   "source": [
    "Yukarıdaki analiz ilk sıradaki videoya dair 1 yorum yapabilmek için 9 görüntülenmenin olması gerektigini söyler ki bu ondalıklı veri sunan bir önceki analize göre biraz daha açıklayıcı bir veri sunuyor. Yani yukarıda ilk beş satır halinde sıralanmıs veriler bize bir başka açıdan en ilgi çekici videoların bilgisini sunar."
   ]
  },
  {
   "cell_type": "markdown",
   "id": "0851b478-cba6-42aa-ba18-518a76162d16",
   "metadata": {},
   "source": [
    "### Her yıl yayınlanan videoların sayısını bulmak ve  grafik olarak göstermek:"
   ]
  },
  {
   "cell_type": "code",
   "execution_count": 17,
   "id": "45ad02f7-5ffd-4606-83c9-c2b66e271c55",
   "metadata": {},
   "outputs": [],
   "source": [
    "from pylab import plt, mpl\n",
    "plt.style.use('ggplot')\n",
    "mpl.rcParams['font.family'] = 'serif'\n",
    "%matplotlib inline"
   ]
  },
  {
   "cell_type": "code",
   "execution_count": 18,
   "id": "5e084c4b-cd3b-4c6f-a4eb-5390b396281f",
   "metadata": {},
   "outputs": [
    {
     "data": {
      "text/plain": [
       "0   2023-10-27\n",
       "1   2023-10-26\n",
       "2   2023-10-25\n",
       "3   2023-10-17\n",
       "4   2023-10-12\n",
       "Name: PublishedDate, dtype: datetime64[ns]"
      ]
     },
     "execution_count": 18,
     "metadata": {},
     "output_type": "execute_result"
    }
   ],
   "source": [
    "df.PublishedDate.head()"
   ]
  },
  {
   "cell_type": "code",
   "execution_count": 19,
   "id": "52bf6da3-1a34-4826-963e-2d91b1aedd33",
   "metadata": {},
   "outputs": [
    {
     "data": {
      "text/html": [
       "<div>\n",
       "<style scoped>\n",
       "    .dataframe tbody tr th:only-of-type {\n",
       "        vertical-align: middle;\n",
       "    }\n",
       "\n",
       "    .dataframe tbody tr th {\n",
       "        vertical-align: top;\n",
       "    }\n",
       "\n",
       "    .dataframe thead th {\n",
       "        text-align: right;\n",
       "    }\n",
       "</style>\n",
       "<table border=\"1\" class=\"dataframe\">\n",
       "  <thead>\n",
       "    <tr style=\"text-align: right;\">\n",
       "      <th></th>\n",
       "      <th>Channel</th>\n",
       "      <th>Title</th>\n",
       "      <th>PublishedDate</th>\n",
       "    </tr>\n",
       "  </thead>\n",
       "  <tbody>\n",
       "    <tr>\n",
       "      <th>5532</th>\n",
       "      <td>Krish Naik</td>\n",
       "      <td>Live Q&amp;A Data Science With Sudhanshu Kumar Part 2</td>\n",
       "      <td>2020-07-22</td>\n",
       "    </tr>\n",
       "    <tr>\n",
       "      <th>3150</th>\n",
       "      <td>DeepLearningAI</td>\n",
       "      <td>Logistic Regression (C1W2L02)</td>\n",
       "      <td>2017-08-25</td>\n",
       "    </tr>\n",
       "    <tr>\n",
       "      <th>4473</th>\n",
       "      <td>Sentdex</td>\n",
       "      <td>Honda s2000 Texas World Speedway Oct 27th 2012</td>\n",
       "      <td>2013-06-15</td>\n",
       "    </tr>\n",
       "    <tr>\n",
       "      <th>3217</th>\n",
       "      <td>DeepLearningAI</td>\n",
       "      <td>Understanding Exponentially Weighted Averages ...</td>\n",
       "      <td>2017-08-25</td>\n",
       "    </tr>\n",
       "    <tr>\n",
       "      <th>5739</th>\n",
       "      <td>Krish Naik</td>\n",
       "      <td>End to End Chatbot with Deployment And Custom ...</td>\n",
       "      <td>2020-03-27</td>\n",
       "    </tr>\n",
       "  </tbody>\n",
       "</table>\n",
       "</div>"
      ],
      "text/plain": [
       "             Channel                                              Title  \\\n",
       "5532      Krish Naik  Live Q&A Data Science With Sudhanshu Kumar Part 2   \n",
       "3150  DeepLearningAI                      Logistic Regression (C1W2L02)   \n",
       "4473         Sentdex     Honda s2000 Texas World Speedway Oct 27th 2012   \n",
       "3217  DeepLearningAI  Understanding Exponentially Weighted Averages ...   \n",
       "5739      Krish Naik  End to End Chatbot with Deployment And Custom ...   \n",
       "\n",
       "     PublishedDate  \n",
       "5532    2020-07-22  \n",
       "3150    2017-08-25  \n",
       "4473    2013-06-15  \n",
       "3217    2017-08-25  \n",
       "5739    2020-03-27  "
      ]
     },
     "execution_count": 19,
     "metadata": {},
     "output_type": "execute_result"
    }
   ],
   "source": [
    "df[['Channel', 'Title', 'PublishedDate']].sample(5)  # videoların yayınladığı tarihlerle ilgili rastgele 5 örnek "
   ]
  },
  {
   "cell_type": "code",
   "execution_count": 20,
   "id": "f96f9918-da3a-418d-858b-e8abd3d94c3a",
   "metadata": {},
   "outputs": [
    {
     "data": {
      "text/plain": [
       "PublishedDate\n",
       "2006      2\n",
       "2008      8\n",
       "2009    105\n",
       "2010     13\n",
       "2011      3\n",
       "2013    283\n",
       "2014    231\n",
       "2015    202\n",
       "2016    512\n",
       "2017    711\n",
       "2018    521\n",
       "2019    696\n",
       "2020    946\n",
       "2021    856\n",
       "2022    675\n",
       "2023    387\n",
       "Name: count, dtype: int64"
      ]
     },
     "execution_count": 20,
     "metadata": {},
     "output_type": "execute_result"
    }
   ],
   "source": [
    "df.PublishedDate.dt.year.value_counts().sort_index()    # her yıla ait değeri indeks sırasına göre sayar"
   ]
  },
  {
   "cell_type": "markdown",
   "id": "7e327441-3f59-47db-a7eb-f8966e86ac75",
   "metadata": {},
   "source": [
    "Bir çizgi grafiği olarak görselleştirirsek;"
   ]
  },
  {
   "cell_type": "code",
   "execution_count": 21,
   "id": "37275124-740f-4da6-a62b-004c0057348b",
   "metadata": {},
   "outputs": [
    {
     "data": {
      "text/plain": [
       "<Axes: title={'center': 'Yıllara Göre Video Sayısı'}, xlabel='PublishedDate', ylabel='Video Sayısı'>"
      ]
     },
     "execution_count": 21,
     "metadata": {},
     "output_type": "execute_result"
    },
    {
     "data": {
      "image/png": "[encoded data removed]",
      "text/plain": [
       "<Figure size 1200x600 with 1 Axes>"
      ]
     },
     "metadata": {},
     "output_type": "display_data"
    }
   ],
   "source": [
    "df.PublishedDate.dt.year.value_counts().sort_index().plot(figsize=(12,6), ylabel='Video Sayısı',\n",
    "                                                         title= 'Yıllara Göre Video Sayısı')         "
   ]
  },
  {
   "cell_type": "code",
   "execution_count": 22,
   "id": "0e3a2482-f716-49ce-b418-0cfa35754753",
   "metadata": {},
   "outputs": [
    {
     "data": {
      "text/plain": [
       "Timestamp('2023-10-27 00:00:00')"
      ]
     },
     "execution_count": 22,
     "metadata": {},
     "output_type": "execute_result"
    }
   ],
   "source": [
    "df.PublishedDate.max()"
   ]
  },
  {
   "cell_type": "markdown",
   "id": "4301cc9f-b049-4449-b979-7ab087805051",
   "metadata": {},
   "source": [
    "2023 senesine ait eksik verilerimiz olduğu için grafik aşağı doğru azalma eğiliminde"
   ]
  },
  {
   "cell_type": "markdown",
   "id": "f887dcce-12fd-44ff-a1fe-53cdd0a43886",
   "metadata": {},
   "source": [
    "### Şimdi izleyiciler tarafından takdir görmüş en iyi kanalları bulmaya çalışalım:"
   ]
  },
  {
   "cell_type": "code",
   "execution_count": 23,
   "id": "67eeff71-a549-4983-9388-1441ab6edbe5",
   "metadata": {},
   "outputs": [
    {
     "data": {
      "text/plain": [
       "Channel\n",
       "Krish Naik                              1669\n",
       "Sentdex                                 1248\n",
       "Jeff Heaton                              607\n",
       "Applied AI Course                        519\n",
       "Siraj Raval                              469\n",
       "Artificial Intelligence — All in One     413\n",
       "DeepLearningAI                           392\n",
       "Nicholas Renotte                         304\n",
       "Daniel Bourke                            300\n",
       "Jeremy Howard                            185\n",
       "DeepLearning.TV                           32\n",
       "Arxiv Insights                            13\n",
       "Name: count, dtype: int64"
      ]
     },
     "execution_count": 23,
     "metadata": {},
     "output_type": "execute_result"
    }
   ],
   "source": [
    "df.Channel.value_counts()       # her kanala ait video adedini sayar"
   ]
  },
  {
   "cell_type": "markdown",
   "id": "8a37a4e3-e49f-4ae8-b104-590097066ca2",
   "metadata": {},
   "source": [
    "Bir bar grafiğini çizersek;"
   ]
  },
  {
   "cell_type": "code",
   "execution_count": 24,
   "id": "70cb89f1-5f2d-44fe-810e-eb8566a18cb5",
   "metadata": {},
   "outputs": [
    {
     "data": {
      "text/plain": [
       "<Axes: title={'center': 'Her bir kanalın video sayısı'}, xlabel='Channel', ylabel='Video Sayısı'>"
      ]
     },
     "execution_count": 24,
     "metadata": {},
     "output_type": "execute_result"
    },
    {
     "data": {
      "image/png": "[encoded data removed]",
      "text/plain": [
       "<Figure size 1200x600 with 1 Axes>"
      ]
     },
     "metadata": {},
     "output_type": "display_data"
    }
   ],
   "source": [
    "df.Channel.value_counts().plot(kind='bar', ylabel='Video Sayısı', title='Her bir kanalın video sayısı', \n",
    "                               figsize=(12,6))"
   ]
  },
  {
   "cell_type": "markdown",
   "id": "15045a7c-6645-4589-b788-f4192f46e2fb",
   "metadata": {},
   "source": [
    "Her kanalı grup haline getirerek görüntülenme sayılarını alıp kanal adedi ve ortalamaya göre artan değerde son 5 veriden bir sütun yapmak istersek;"
   ]
  },
  {
   "cell_type": "code",
   "execution_count": 25,
   "id": "8467af89-edcc-4206-8fc5-e0ea6fdce8b1",
   "metadata": {},
   "outputs": [
    {
     "data": {
      "text/html": [
       "<div>\n",
       "<style scoped>\n",
       "    .dataframe tbody tr th:only-of-type {\n",
       "        vertical-align: middle;\n",
       "    }\n",
       "\n",
       "    .dataframe tbody tr th {\n",
       "        vertical-align: top;\n",
       "    }\n",
       "\n",
       "    .dataframe thead th {\n",
       "        text-align: right;\n",
       "    }\n",
       "</style>\n",
       "<table border=\"1\" class=\"dataframe\">\n",
       "  <thead>\n",
       "    <tr style=\"text-align: right;\">\n",
       "      <th></th>\n",
       "      <th>count</th>\n",
       "      <th>mean</th>\n",
       "    </tr>\n",
       "    <tr>\n",
       "      <th>Channel</th>\n",
       "      <th></th>\n",
       "      <th></th>\n",
       "    </tr>\n",
       "  </thead>\n",
       "  <tbody>\n",
       "    <tr>\n",
       "      <th>Krish Naik</th>\n",
       "      <td>1669</td>\n",
       "      <td>50111.200120</td>\n",
       "    </tr>\n",
       "    <tr>\n",
       "      <th>Sentdex</th>\n",
       "      <td>1248</td>\n",
       "      <td>89871.141827</td>\n",
       "    </tr>\n",
       "    <tr>\n",
       "      <th>Siraj Raval</th>\n",
       "      <td>469</td>\n",
       "      <td>106192.102345</td>\n",
       "    </tr>\n",
       "    <tr>\n",
       "      <th>DeepLearning.TV</th>\n",
       "      <td>32</td>\n",
       "      <td>136738.093750</td>\n",
       "    </tr>\n",
       "    <tr>\n",
       "      <th>Arxiv Insights</th>\n",
       "      <td>13</td>\n",
       "      <td>167996.846154</td>\n",
       "    </tr>\n",
       "  </tbody>\n",
       "</table>\n",
       "</div>"
      ],
      "text/plain": [
       "                 count           mean\n",
       "Channel                              \n",
       "Krish Naik        1669   50111.200120\n",
       "Sentdex           1248   89871.141827\n",
       "Siraj Raval        469  106192.102345\n",
       "DeepLearning.TV     32  136738.093750\n",
       "Arxiv Insights      13  167996.846154"
      ]
     },
     "execution_count": 25,
     "metadata": {},
     "output_type": "execute_result"
    }
   ],
   "source": [
    "df.groupby('Channel').Views.agg(['count', 'mean']).sort_values('mean').tail()  "
   ]
  },
  {
   "cell_type": "markdown",
   "id": "940b4638-16a7-4bf8-9bfa-5b88adbd34b2",
   "metadata": {},
   "source": [
    "Görülüyor ki *'Arxiv Insights'* video başına yaklaşık 168 bin görüntülenmeye sahip ancak yalnızca 13 adet videodan bahsediyoruz ki güveneceğimiz bir sonuç olmayacaktır."
   ]
  },
  {
   "cell_type": "markdown",
   "id": "53b87a9d-0b6e-48d5-affc-5f942b0ba171",
   "metadata": {},
   "source": [
    "Toplam izlenme sayısı en fazla olan kanallara bir göz atalım. Toplama göre artan sırayla son 5 veri için bir sıralama yaparsak;"
   ]
  },
  {
   "cell_type": "code",
   "execution_count": 26,
   "id": "06b12381-319d-43c5-b37f-febf66ca5e10",
   "metadata": {},
   "outputs": [
    {
     "data": {
      "text/html": [
       "<div>\n",
       "<style scoped>\n",
       "    .dataframe tbody tr th:only-of-type {\n",
       "        vertical-align: middle;\n",
       "    }\n",
       "\n",
       "    .dataframe tbody tr th {\n",
       "        vertical-align: top;\n",
       "    }\n",
       "\n",
       "    .dataframe thead th {\n",
       "        text-align: right;\n",
       "    }\n",
       "</style>\n",
       "<table border=\"1\" class=\"dataframe\">\n",
       "  <thead>\n",
       "    <tr style=\"text-align: right;\">\n",
       "      <th></th>\n",
       "      <th>count</th>\n",
       "      <th>mean</th>\n",
       "      <th>sum</th>\n",
       "    </tr>\n",
       "    <tr>\n",
       "      <th>Channel</th>\n",
       "      <th></th>\n",
       "      <th></th>\n",
       "      <th></th>\n",
       "    </tr>\n",
       "  </thead>\n",
       "  <tbody>\n",
       "    <tr>\n",
       "      <th>Nicholas Renotte</th>\n",
       "      <td>304</td>\n",
       "      <td>43603.430921</td>\n",
       "      <td>13255443</td>\n",
       "    </tr>\n",
       "    <tr>\n",
       "      <th>DeepLearningAI</th>\n",
       "      <td>392</td>\n",
       "      <td>40498.301020</td>\n",
       "      <td>15875334</td>\n",
       "    </tr>\n",
       "    <tr>\n",
       "      <th>Siraj Raval</th>\n",
       "      <td>469</td>\n",
       "      <td>106192.102345</td>\n",
       "      <td>49804096</td>\n",
       "    </tr>\n",
       "    <tr>\n",
       "      <th>Krish Naik</th>\n",
       "      <td>1669</td>\n",
       "      <td>50111.200120</td>\n",
       "      <td>83635593</td>\n",
       "    </tr>\n",
       "    <tr>\n",
       "      <th>Sentdex</th>\n",
       "      <td>1248</td>\n",
       "      <td>89871.141827</td>\n",
       "      <td>112159185</td>\n",
       "    </tr>\n",
       "  </tbody>\n",
       "</table>\n",
       "</div>"
      ],
      "text/plain": [
       "                  count           mean        sum\n",
       "Channel                                          \n",
       "Nicholas Renotte    304   43603.430921   13255443\n",
       "DeepLearningAI      392   40498.301020   15875334\n",
       "Siraj Raval         469  106192.102345   49804096\n",
       "Krish Naik         1669   50111.200120   83635593\n",
       "Sentdex            1248   89871.141827  112159185"
      ]
     },
     "execution_count": 26,
     "metadata": {},
     "output_type": "execute_result"
    }
   ],
   "source": [
    "df.groupby('Channel').Views.agg(['count', 'mean', 'sum']).sort_values('sum').tail()  "
   ]
  },
  {
   "cell_type": "markdown",
   "id": "ed4f3825-f445-42d9-8506-a04a540bce07",
   "metadata": {},
   "source": [
    "Burada da *'Sentdex'* isimli kanalın 1248 adet video ile 112 milyonluk toplam izlenme sayısına ulaştığını görüyoruz."
   ]
  },
  {
   "cell_type": "markdown",
   "id": "a5ea292d-f74d-4a20-b3f9-e7dd81bf0f68",
   "metadata": {},
   "source": [
    "Toplam beğeni sayısı en fazla olan kanallara yine son 5 verisi için göz atarsak;"
   ]
  },
  {
   "cell_type": "code",
   "execution_count": 27,
   "id": "96f2f7c0-3540-475a-9bd7-670c38edc7b8",
   "metadata": {},
   "outputs": [
    {
     "data": {
      "text/html": [
       "<div>\n",
       "<style scoped>\n",
       "    .dataframe tbody tr th:only-of-type {\n",
       "        vertical-align: middle;\n",
       "    }\n",
       "\n",
       "    .dataframe tbody tr th {\n",
       "        vertical-align: top;\n",
       "    }\n",
       "\n",
       "    .dataframe thead th {\n",
       "        text-align: right;\n",
       "    }\n",
       "</style>\n",
       "<table border=\"1\" class=\"dataframe\">\n",
       "  <thead>\n",
       "    <tr style=\"text-align: right;\">\n",
       "      <th></th>\n",
       "      <th>count</th>\n",
       "      <th>mean</th>\n",
       "      <th>sum</th>\n",
       "    </tr>\n",
       "    <tr>\n",
       "      <th>Channel</th>\n",
       "      <th></th>\n",
       "      <th></th>\n",
       "      <th></th>\n",
       "    </tr>\n",
       "  </thead>\n",
       "  <tbody>\n",
       "    <tr>\n",
       "      <th>Daniel Bourke</th>\n",
       "      <td>300</td>\n",
       "      <td>736.570000</td>\n",
       "      <td>220971</td>\n",
       "    </tr>\n",
       "    <tr>\n",
       "      <th>Nicholas Renotte</th>\n",
       "      <td>304</td>\n",
       "      <td>1367.638158</td>\n",
       "      <td>415762</td>\n",
       "    </tr>\n",
       "    <tr>\n",
       "      <th>Siraj Raval</th>\n",
       "      <td>469</td>\n",
       "      <td>2433.061834</td>\n",
       "      <td>1141106</td>\n",
       "    </tr>\n",
       "    <tr>\n",
       "      <th>Sentdex</th>\n",
       "      <td>1248</td>\n",
       "      <td>1063.343750</td>\n",
       "      <td>1327053</td>\n",
       "    </tr>\n",
       "    <tr>\n",
       "      <th>Krish Naik</th>\n",
       "      <td>1669</td>\n",
       "      <td>1214.147394</td>\n",
       "      <td>2026412</td>\n",
       "    </tr>\n",
       "  </tbody>\n",
       "</table>\n",
       "</div>"
      ],
      "text/plain": [
       "                  count         mean      sum\n",
       "Channel                                      \n",
       "Daniel Bourke       300   736.570000   220971\n",
       "Nicholas Renotte    304  1367.638158   415762\n",
       "Siraj Raval         469  2433.061834  1141106\n",
       "Sentdex            1248  1063.343750  1327053\n",
       "Krish Naik         1669  1214.147394  2026412"
      ]
     },
     "execution_count": 27,
     "metadata": {},
     "output_type": "execute_result"
    }
   ],
   "source": [
    "df.groupby('Channel').Likes.agg(['count', 'mean', 'sum']).sort_values('sum').tail() "
   ]
  },
  {
   "cell_type": "markdown",
   "id": "0fb884ba-2857-4654-ac77-204fd0264993",
   "metadata": {},
   "source": [
    "*Krish Naik* isimli kanalin 1669 video ve  2 milyonun üzerinde beğeni ile ilk sıraya yükseldiğini görüyoruz."
   ]
  },
  {
   "cell_type": "markdown",
   "id": "b8f0d758-02e8-4907-b137-5376e635e5ee",
   "metadata": {},
   "source": [
    "### Şimdi de mevcut videolar içerisinde en çok seyredilen konu başlığını ve hangi kanala ait olduğunu bulmaya çalışalım:"
   ]
  },
  {
   "cell_type": "code",
   "execution_count": 28,
   "id": "a3a62063-e5f3-42d4-ab2d-c04787c62afb",
   "metadata": {},
   "outputs": [
    {
     "data": {
      "text/html": [
       "<div>\n",
       "<style scoped>\n",
       "    .dataframe tbody tr th:only-of-type {\n",
       "        vertical-align: middle;\n",
       "    }\n",
       "\n",
       "    .dataframe tbody tr th {\n",
       "        vertical-align: top;\n",
       "    }\n",
       "\n",
       "    .dataframe thead th {\n",
       "        text-align: right;\n",
       "    }\n",
       "</style>\n",
       "<table border=\"1\" class=\"dataframe\">\n",
       "  <thead>\n",
       "    <tr style=\"text-align: right;\">\n",
       "      <th></th>\n",
       "      <th>Channel</th>\n",
       "      <th>Title</th>\n",
       "      <th>PublishedDate</th>\n",
       "      <th>Views</th>\n",
       "      <th>Likes</th>\n",
       "      <th>Comments</th>\n",
       "      <th>Comments/Views</th>\n",
       "      <th>Views/Comments</th>\n",
       "    </tr>\n",
       "  </thead>\n",
       "  <tbody>\n",
       "    <tr>\n",
       "      <th>0</th>\n",
       "      <td>Jeff Heaton</td>\n",
       "      <td>LSTM-Based Time Series with PyTorch (10.2)</td>\n",
       "      <td>2023-10-27</td>\n",
       "      <td>764</td>\n",
       "      <td>45</td>\n",
       "      <td>1</td>\n",
       "      <td>0.001309</td>\n",
       "      <td>764.0</td>\n",
       "    </tr>\n",
       "    <tr>\n",
       "      <th>1</th>\n",
       "      <td>Jeff Heaton</td>\n",
       "      <td>Time Series Data Encoding for Deep Learning, P...</td>\n",
       "      <td>2023-10-26</td>\n",
       "      <td>530</td>\n",
       "      <td>31</td>\n",
       "      <td>1</td>\n",
       "      <td>0.001887</td>\n",
       "      <td>530.0</td>\n",
       "    </tr>\n",
       "    <tr>\n",
       "      <th>2</th>\n",
       "      <td>Jeff Heaton</td>\n",
       "      <td>Bayesian Hyperparameter Optimization for PyTor...</td>\n",
       "      <td>2023-10-25</td>\n",
       "      <td>453</td>\n",
       "      <td>29</td>\n",
       "      <td>1</td>\n",
       "      <td>0.002208</td>\n",
       "      <td>453.0</td>\n",
       "    </tr>\n",
       "    <tr>\n",
       "      <th>3</th>\n",
       "      <td>Jeff Heaton</td>\n",
       "      <td>Creating Certificates to Deploy PyInstaller Py...</td>\n",
       "      <td>2023-10-17</td>\n",
       "      <td>439</td>\n",
       "      <td>12</td>\n",
       "      <td>0</td>\n",
       "      <td>0.000000</td>\n",
       "      <td>inf</td>\n",
       "    </tr>\n",
       "    <tr>\n",
       "      <th>4</th>\n",
       "      <td>Jeff Heaton</td>\n",
       "      <td>How Should you Architect Your PyTorch Neural N...</td>\n",
       "      <td>2023-10-12</td>\n",
       "      <td>825</td>\n",
       "      <td>39</td>\n",
       "      <td>1</td>\n",
       "      <td>0.001212</td>\n",
       "      <td>825.0</td>\n",
       "    </tr>\n",
       "  </tbody>\n",
       "</table>\n",
       "</div>"
      ],
      "text/plain": [
       "       Channel                                              Title  \\\n",
       "0  Jeff Heaton         LSTM-Based Time Series with PyTorch (10.2)   \n",
       "1  Jeff Heaton  Time Series Data Encoding for Deep Learning, P...   \n",
       "2  Jeff Heaton  Bayesian Hyperparameter Optimization for PyTor...   \n",
       "3  Jeff Heaton  Creating Certificates to Deploy PyInstaller Py...   \n",
       "4  Jeff Heaton  How Should you Architect Your PyTorch Neural N...   \n",
       "\n",
       "  PublishedDate  Views  Likes  Comments  Comments/Views  Views/Comments  \n",
       "0    2023-10-27    764     45         1        0.001309           764.0  \n",
       "1    2023-10-26    530     31         1        0.001887           530.0  \n",
       "2    2023-10-25    453     29         1        0.002208           453.0  \n",
       "3    2023-10-17    439     12         0        0.000000             inf  \n",
       "4    2023-10-12    825     39         1        0.001212           825.0  "
      ]
     },
     "execution_count": 28,
     "metadata": {},
     "output_type": "execute_result"
    }
   ],
   "source": [
    "df.head()"
   ]
  },
  {
   "cell_type": "code",
   "execution_count": 29,
   "id": "998dd6e6-5968-4d2e-ac73-0f110cf6055e",
   "metadata": {},
   "outputs": [
    {
     "data": {
      "text/plain": [
       "2689040"
      ]
     },
     "execution_count": 29,
     "metadata": {},
     "output_type": "execute_result"
    }
   ],
   "source": [
    "df.Views.max()        # En cok seyredilen videonun seyirci sayısı"
   ]
  },
  {
   "cell_type": "markdown",
   "id": "0eea58a9-459c-422c-ad25-0326bf871864",
   "metadata": {},
   "source": [
    "izlenme sayılarına ait verileri artan bir sıraya göre son 5 satır halinde yeniden düzenleme:"
   ]
  },
  {
   "cell_type": "code",
   "execution_count": 30,
   "id": "690548c5-0541-4ffd-ba57-bd364ca186a4",
   "metadata": {},
   "outputs": [
    {
     "data": {
      "text/html": [
       "<div>\n",
       "<style scoped>\n",
       "    .dataframe tbody tr th:only-of-type {\n",
       "        vertical-align: middle;\n",
       "    }\n",
       "\n",
       "    .dataframe tbody tr th {\n",
       "        vertical-align: top;\n",
       "    }\n",
       "\n",
       "    .dataframe thead th {\n",
       "        text-align: right;\n",
       "    }\n",
       "</style>\n",
       "<table border=\"1\" class=\"dataframe\">\n",
       "  <thead>\n",
       "    <tr style=\"text-align: right;\">\n",
       "      <th></th>\n",
       "      <th>Channel</th>\n",
       "      <th>Title</th>\n",
       "      <th>PublishedDate</th>\n",
       "      <th>Views</th>\n",
       "      <th>Likes</th>\n",
       "      <th>Comments</th>\n",
       "      <th>Comments/Views</th>\n",
       "      <th>Views/Comments</th>\n",
       "    </tr>\n",
       "  </thead>\n",
       "  <tbody>\n",
       "    <tr>\n",
       "      <th>2491</th>\n",
       "      <td>Applied AI Course</td>\n",
       "      <td>Prakhar Raj Become Data Scientist at Simpl | D...</td>\n",
       "      <td>2020-12-22</td>\n",
       "      <td>1605793</td>\n",
       "      <td>449</td>\n",
       "      <td>27</td>\n",
       "      <td>0.000017</td>\n",
       "      <td>59473.814815</td>\n",
       "    </tr>\n",
       "    <tr>\n",
       "      <th>6016</th>\n",
       "      <td>Krish Naik</td>\n",
       "      <td>How To Learn Data Science Smartly?</td>\n",
       "      <td>2019-08-22</td>\n",
       "      <td>1617866</td>\n",
       "      <td>51816</td>\n",
       "      <td>1280</td>\n",
       "      <td>0.000791</td>\n",
       "      <td>1263.957813</td>\n",
       "    </tr>\n",
       "    <tr>\n",
       "      <th>5458</th>\n",
       "      <td>Krish Naik</td>\n",
       "      <td>Complete Road Map To Be Expert In Python- Foll...</td>\n",
       "      <td>2020-09-18</td>\n",
       "      <td>1640772</td>\n",
       "      <td>18240</td>\n",
       "      <td>461</td>\n",
       "      <td>0.000281</td>\n",
       "      <td>3559.158351</td>\n",
       "    </tr>\n",
       "    <tr>\n",
       "      <th>3754</th>\n",
       "      <td>Sentdex</td>\n",
       "      <td>Practical Machine Learning Tutorial with Pytho...</td>\n",
       "      <td>2016-04-11</td>\n",
       "      <td>2665790</td>\n",
       "      <td>26085</td>\n",
       "      <td>1007</td>\n",
       "      <td>0.000378</td>\n",
       "      <td>2647.259186</td>\n",
       "    </tr>\n",
       "    <tr>\n",
       "      <th>5898</th>\n",
       "      <td>Krish Naik</td>\n",
       "      <td>AI VS ML VS DL VS Data Science</td>\n",
       "      <td>2019-11-26</td>\n",
       "      <td>2689040</td>\n",
       "      <td>64750</td>\n",
       "      <td>1697</td>\n",
       "      <td>0.000631</td>\n",
       "      <td>1584.584561</td>\n",
       "    </tr>\n",
       "  </tbody>\n",
       "</table>\n",
       "</div>"
      ],
      "text/plain": [
       "                Channel                                              Title  \\\n",
       "2491  Applied AI Course  Prakhar Raj Become Data Scientist at Simpl | D...   \n",
       "6016         Krish Naik                 How To Learn Data Science Smartly?   \n",
       "5458         Krish Naik  Complete Road Map To Be Expert In Python- Foll...   \n",
       "3754            Sentdex  Practical Machine Learning Tutorial with Pytho...   \n",
       "5898         Krish Naik                     AI VS ML VS DL VS Data Science   \n",
       "\n",
       "     PublishedDate    Views  Likes  Comments  Comments/Views  Views/Comments  \n",
       "2491    2020-12-22  1605793    449        27        0.000017    59473.814815  \n",
       "6016    2019-08-22  1617866  51816      1280        0.000791     1263.957813  \n",
       "5458    2020-09-18  1640772  18240       461        0.000281     3559.158351  \n",
       "3754    2016-04-11  2665790  26085      1007        0.000378     2647.259186  \n",
       "5898    2019-11-26  2689040  64750      1697        0.000631     1584.584561  "
      ]
     },
     "execution_count": 30,
     "metadata": {},
     "output_type": "execute_result"
    }
   ],
   "source": [
    "df.sort_values('Views').tail()      "
   ]
  },
  {
   "cell_type": "markdown",
   "id": "1d9eadf5-25e9-47cc-b4cf-ee94287d5375",
   "metadata": {},
   "source": [
    "Bu analizde ise  *'Krish Naik'* isimli kanalın *'AI VS ML VS DL VS Data Science'* konu başlıklı bir video ile en çok seyredilerek 2.6 milyonun üzerinde bir izlenme sayısına ulaştığı sonucuna variyoruz. Onu yine yakın bir izlenme sayısıyla *'Sentdex'* isimli kanal takip etmektedir. \t"
   ]
  }
 ],
 "metadata": {
  "kernelspec": {
   "display_name": "DA_env",
   "language": "python",
   "name": "da_env"
  },
  "language_info": {
   "codemirror_mode": {
    "name": "ipython",
    "version": 3
   },
   "file_extension": ".py",
   "mimetype": "text/x-python",
   "name": "python",
   "nbconvert_exporter": "python",
   "pygments_lexer": "ipython3",
   "version": "3.11.5"
  }
 },
 "nbformat": 4,
 "nbformat_minor": 5
}
